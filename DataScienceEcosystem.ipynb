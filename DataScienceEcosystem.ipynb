{
 "cells": [
  {
   "cell_type": "markdown",
   "id": "3fc4f11b-7a2e-4d38-8781-d3711ef6806f",
   "metadata": {},
   "source": [
    "# Data Science Tools and Ecosystem"
   ]
  },
  {
   "cell_type": "markdown",
   "id": "cf66d112-21f7-45ab-9e03-42f01cc4fb6a",
   "metadata": {},
   "source": [
    "In this notebook, Data Science Tools and Ecosystem are summarized"
   ]
  },
  {
   "cell_type": "markdown",
   "id": "d993e389-51a9-472a-bc8f-0b78639704ca",
   "metadata": {},
   "source": [
    "## Objectives\n",
    "#### Some popular languages for Data Science\n",
    "* Python\n",
    "* Java Script\n",
    "* SQL\n",
    "* R Language\n",
    "* Visual Basic\n",
    "* C++"
   ]
  },
  {
   "cell_type": "markdown",
   "id": "31ba8c1b-07c3-4ae5-9071-ce55ee59e62f",
   "metadata": {},
   "source": [
    "### Some of popular languages that Data Scientist Use are: \n",
    "1. Python\n",
    "2. Java Script\n",
    "3. SQL\n",
    "4. R Language\n",
    "5. Java\n",
    "6. Scala\n",
    "7. Visual Basic\n",
    "8. Julia\n",
    "9. C++"
   ]
  },
  {
   "cell_type": "markdown",
   "id": "1b0a7cc0-f66d-43e3-b736-8bab38f18341",
   "metadata": {},
   "source": [
    "### Some of the commonly used libraries used by Data Scientists include:\n",
    "1. Pandas\n",
    "2. Numpy\n",
    "3. Matplotlib\n",
    "4. Seaborn\n",
    "5. Scikit-learn\n",
    "6. Keras\n",
    "7. TensorFlow\n",
    "8. PyTorch"
   ]
  },
  {
   "cell_type": "markdown",
   "id": "b29d5063-4779-4c59-a75e-057a4792e5da",
   "metadata": {},
   "source": [
    "### Data Science Tools\n",
    "\n",
    "|Data Science Tools |\n",
    "|-------------------|\n",
    "|MySQL|\n",
    "|Apache Spark SQL|\n",
    "|PixieDust|\n",
    "|Apache PredictionIO|\n",
    "|IBM AI Fairness 360|\n",
    "|Git|\n",
    "|ODPi Egeria|"
   ]
  },
  {
   "cell_type": "markdown",
   "id": "3b0f2f2b-2a73-43f5-9e6f-3d07eb87b117",
   "metadata": {},
   "source": [
    "### Below are a few examples of evaluating arithmetic expressions in Python"
   ]
  },
  {
   "cell_type": "code",
   "execution_count": 20,
   "id": "1e9d78e0-4a38-4c75-b297-cd92f201c1b9",
   "metadata": {},
   "outputs": [
    {
     "data": {
      "text/plain": [
       "17"
      ]
     },
     "execution_count": 20,
     "metadata": {},
     "output_type": "execute_result"
    }
   ],
   "source": [
    "# This is simple arithmetic expression to multiply then add integers\n",
    "(3*4)+5"
   ]
  },
  {
   "cell_type": "code",
   "execution_count": 26,
   "id": "32e0eeba-c89c-4da3-ac48-cf08e2cf6973",
   "metadata": {},
   "outputs": [
    {
     "data": {
      "text/plain": [
       "3.3333333333333335"
      ]
     },
     "execution_count": 26,
     "metadata": {},
     "output_type": "execute_result"
    }
   ],
   "source": [
    "# This will convert 200 minutes to hours by dividing by 60\n",
    "200/60"
   ]
  },
  {
   "cell_type": "markdown",
   "id": "a1ec0c2b-9dcc-4edc-9546-7c227dc81645",
   "metadata": {},
   "source": [
    "## Author\n",
    "Paul Palocaren"
   ]
  },
  {
   "cell_type": "code",
   "execution_count": null,
   "id": "5f862087-c5d1-42e1-9489-b2fcb536c9a2",
   "metadata": {},
   "outputs": [],
   "source": []
  }
 ],
 "metadata": {
  "kernelspec": {
   "display_name": "Python 3 (ipykernel)",
   "language": "python",
   "name": "python3"
  },
  "language_info": {
   "codemirror_mode": {
    "name": "ipython",
    "version": 3
   },
   "file_extension": ".py",
   "mimetype": "text/x-python",
   "name": "python",
   "nbconvert_exporter": "python",
   "pygments_lexer": "ipython3",
   "version": "3.11.7"
  }
 },
 "nbformat": 4,
 "nbformat_minor": 5
}
